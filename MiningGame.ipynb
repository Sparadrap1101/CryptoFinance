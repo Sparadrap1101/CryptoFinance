{
  "nbformat": 4,
  "nbformat_minor": 0,
  "metadata": {
    "colab": {
      "provenance": [],
      "authorship_tag": "ABX9TyN4FvM/iyel98q5/hU9AT7q",
      "include_colab_link": true
    },
    "kernelspec": {
      "name": "python3",
      "display_name": "Python 3"
    },
    "language_info": {
      "name": "python"
    }
  },
  "cells": [
    {
      "cell_type": "markdown",
      "metadata": {
        "id": "view-in-github",
        "colab_type": "text"
      },
      "source": [
        "<a href=\"https://colab.research.google.com/github/Sparadrap1101/CryptoFinance/blob/main/MiningGame.ipynb\" target=\"_parent\"><img src=\"https://colab.research.google.com/assets/colab-badge.svg\" alt=\"Open In Colab\"/></a>"
      ]
    },
    {
      "cell_type": "code",
      "source": [
        "# Author: Alexis Cerio\n",
        "#\n",
        "# Subject: We want to simulate a mining game in order to determine if and when the honest mining strategy is not the best one.\n",
        "# \n",
        "#\n",
        "# Game Process: In this simulation, the attacker will have A tokens, the bank H tokens and actions with some cost can be perform.\n",
        "# We will have only 3 possible actions : CoinFlip, Override or Abandon. CoinFlip will either gives a token to the attacker or gives a token to the bank \n",
        "# with a cost C. Override will cause the bank to lose all its tokens and the attacker to lose H + 1 tokens, but the attacker will gain H + 1 - C €.\n",
        "# Finally, Abandon will cause both players to lose all their tokens without any cost.\n",
        "#\n",
        "# We aim to simulate this mining game and check from which threshold value the honest mining strategy is no longer the best one.\n",
        "\n",
        "import matplotlib.pyplot as plt\n",
        "import numpy as np\n",
        "\n",
        "# We start by making the CoinFlip() function in which we will either give a token to the attacker without cost with probability q, or give\n",
        "# a token to the bank with cost c and probability 1 - q.\n",
        "def CoinFlip(a, h, n, q, c):\n",
        "  return (q * E(a + 1, h, n - 1, q, c) + (1 - q) * (E(a, h + 1, n - 1, q, c) - c))\n",
        "\n",
        "# We then make the Override function in which the bank loses all its tokens, the attacker loses h + 1 tokens and wins h + 1 - c €.\n",
        "def Override(a, h, n, q, c):\n",
        "  return (h + 1 - c + E(a - h - 1, 0, n, q, c))\n",
        "\n",
        "# Similarly, we make the Abandon function in which both players lose all their tokens without any cost.\n",
        "def Abandon(a, h, n, q, c):\n",
        "  return E(0, 0, n - 1, q, c)\n",
        "\n",
        "# We finish by making the main function in which we will redirect to the previous functions according to the state of the simulation.\n",
        "def E(a, h, n, q, c):\n",
        "  # In the case where there are no more possible actions, we return 0.\n",
        "  if n == 0:\n",
        "    return 0\n",
        "\n",
        "  # In the case where the attacker has more tokens than the bank, we return the max between Override() and CoinFlip().\n",
        "  if a > h:\n",
        "    return max(Override(a, h, n, q, c), CoinFlip(a, h, n, q, c))\n",
        "  \n",
        "  # Finally, in the case where the bank has as many or more tokens than the attacker, we return the max between Abandon() and CoinFlip().\n",
        "  if a <= h:\n",
        "    return max(Abandon(a, h, n, q, c), CoinFlip(a, h, n, q, c))\n",
        "\n",
        "# We then instantiate two value arrays to be able to display the final graph and a variable to determine and display the threshold value.\n",
        "x = np.arange(0, 1.05, 0.05)\n",
        "y = []\n",
        "thresholdBestStrat = 0\n",
        "\n",
        "# We determine the values of y[] from the previous algorithm.\n",
        "for q in range(0, 21):\n",
        "  y.append(E(0, 0, 5, q / 20, q / 20))\n",
        "\n",
        "  # We retrieve the threshold value and display it.\n",
        "  thresholdBestStrat = x[q - 1] if (y[q] > 0 and thresholdBestStrat == 0) else thresholdBestStrat\n",
        "\n",
        "print(\"We can see that the threshold value from which the honest mining strategy is not the best one starts at \" + str(round(thresholdBestStrat * 100)) + \"%.\")\n",
        "\n",
        "# We simply end by displaying the curve of our simulation in order to see when the honest mining strategy is not the best one.\n",
        "plt.plot(x, y)\n",
        "plt.title(\"Mining Game Graph\")\n",
        "plt.grid()\n",
        "plt.show()"
      ],
      "metadata": {
        "colab": {
          "base_uri": "https://localhost:8080/",
          "height": 299
        },
        "id": "curlNR5_HMGs",
        "outputId": "e1b94e83-21d3-4930-e033-17d4f885ee79"
      },
      "execution_count": 42,
      "outputs": [
        {
          "output_type": "stream",
          "name": "stdout",
          "text": [
            "We can see that the threshold value from which the honest mining strategy is not the best one starts at 35%.\n"
          ]
        },
        {
          "output_type": "display_data",
          "data": {
            "text/plain": [
              "<Figure size 432x288 with 1 Axes>"
            ],
            "image/png": "[encoded data removed]"
          },
          "metadata": {
            "needs_background": "light"
          }
        }
      ]
    }
  ]
}