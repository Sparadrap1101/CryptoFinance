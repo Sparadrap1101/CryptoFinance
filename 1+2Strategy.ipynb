{
  "nbformat": 4,
  "nbformat_minor": 0,
  "metadata": {
    "colab": {
      "provenance": [],
      "authorship_tag": "ABX9TyNSscTS2GPb8jlZ/olJGNFK",
      "include_colab_link": true
    },
    "kernelspec": {
      "name": "python3",
      "display_name": "Python 3"
    },
    "language_info": {
      "name": "python"
    }
  },
  "cells": [
    {
      "cell_type": "markdown",
      "metadata": {
        "id": "view-in-github",
        "colab_type": "text"
      },
      "source": [
        "<a href=\"https://colab.research.google.com/github/Sparadrap1101/CryptoFinance/blob/main/1%2B2Strategy.ipynb\" target=\"_parent\"><img src=\"https://colab.research.google.com/assets/colab-badge.svg\" alt=\"Open In Colab\"/></a>"
      ]
    },
    {
      "cell_type": "code",
      "source": [
        "# Author: Alexis Cerio\n",
        "#\n",
        "# Subject: We want to simulate a 1+2 Strategy against an honest mining strategy in order to determine which one is the most profitable.\n",
        "# \n",
        "#\n",
        "# Strategy Process: In this strategy, as soon as the attacker mines a block on the main chain before the honest miners, he will wait two more blocks\n",
        "# before potentially making his blocks public.\n",
        "# If in the next two blocks the attacker mines at least one more, he will then publish them and overwrite the main chain with the honest miners because\n",
        "# his will be longer. In the opposite case, he will simply abandon his blocks and start mining again from the main chain.\n",
        "#\n",
        "# We aim to simulate this mining strategy and check from how much hashrate this strategy becomes profitable.\n",
        "\n",
        "import random\n",
        "\n",
        "# We define the variables necessary for the simulation.\n",
        "totalHashrate = 100\n",
        "coinbaseRevenu = 6.25\n",
        "allAttackerHashrate = list(range(0, 101))\n",
        "finalCoefficient = []\n",
        "finalHonestCoefficient = []\n",
        "thresholdBestStrat = 0\n",
        "locker = 0\n",
        "\n",
        "nbreCycle = int(input(\"Number of cycles? (e.g. 10.000) > \"))"
      ],
      "metadata": {
        "colab": {
          "base_uri": "https://localhost:8080/"
        },
        "id": "8Vl24AjwcykJ",
        "outputId": "8ef3daa0-0617-404d-b7af-f060c767af86"
      },
      "execution_count": 34,
      "outputs": [
        {
          "name": "stdout",
          "output_type": "stream",
          "text": [
            "Number of cycles? (e.g. 10.000) > 10000\n"
          ]
        }
      ]
    },
    {
      "cell_type": "code",
      "source": [
        "print(\"Waiting for compute...\")\n",
        "\n",
        "# We start simulation here.\n",
        "# First we do a for loop to simulate with all different attacker hashrate % possible.\n",
        "for attackerHashrate in allAttackerHashrate:\n",
        "  # We create and reset the block height, the honest miner revenue and the attacker revenue values for each simulation.\n",
        "  honestRevenu = 0\n",
        "  finalRevenu = 0\n",
        "  blockHeight = 0\n",
        "  \n",
        "  # We launch the simulation and calculate the block height and yield of the strategy over X attack cycles defined earlier.\n",
        "  for i in range(nbreCycle):\n",
        "    blocSequence = []\n",
        "\n",
        "    # We create our sequence of 3 blocks, and depending on the results we will see the yields of each strategy.\n",
        "    for j in range(3):\n",
        "      blockMined = random.randrange(0, totalHashrate) # A new block is mined.\n",
        "      \n",
        "      if (blockMined <= attackerHashrate): # If the attacker mines the block we add 1 to our block sequence.\n",
        "        blocSequence.append(1)\n",
        "      else: # If the attacker don't mines the block we add 0 to our block sequence.\n",
        "        blocSequence.append(0)\n",
        "\n",
        "    \n",
        "    # Once the block sequence is created we calculate the yield of each strategy.\n",
        "\n",
        "    # If the attacker did not mine the first block, then he immediately start mining again from the main chain. \n",
        "    # So we increment the block height and only increase the earnings of honest mining.\n",
        "    if blocSequence[0] == 0:\n",
        "      blockHeight += 1\n",
        "      honestRevenu += (attackerHashrate / totalHashrate) * coinbaseRevenu\n",
        "\n",
        "    # If the attacker only mined the first block, then he abandon his block after the sequence and start mining again from the main chain. \n",
        "    # So we increment the block height and only increase the earnings of honest mining.\n",
        "    elif blocSequence == [1, 0, 0]:\n",
        "      blockHeight += 2\n",
        "      honestRevenu += ((attackerHashrate / totalHashrate) * coinbaseRevenu) * 2\n",
        "\n",
        "    # If the attacker mined the first block and the last block of the sequence, then he make his blocks public and collect the generated earnings. \n",
        "    # So we increment the block height, the attacker's earnings, and the earnings of honest mining.\n",
        "    elif blocSequence == [1, 0, 1]:\n",
        "      blockHeight += 2\n",
        "      honestRevenu += ((attackerHashrate / totalHashrate) * coinbaseRevenu) * 2\n",
        "      finalRevenu += coinbaseRevenu * 2\n",
        "\n",
        "    # If the attacker mined the first block and the second block of the sequence, then he make his blocks public and collect the generated earnings. \n",
        "    # So we increment the block height, the attacker's earnings, and the earnings of honest mining.\n",
        "    elif blocSequence == [1, 1, 0]:\n",
        "      blockHeight += 2\n",
        "      honestRevenu += ((attackerHashrate / totalHashrate) * coinbaseRevenu) * 2\n",
        "      finalRevenu += coinbaseRevenu * 2\n",
        "\n",
        "    # If the attacker mined all the blocks in the sequence, then he make his blocks public and collect the generated earnings. \n",
        "    # So we increment the block height, the attacker's earnings, and the earnings of honest mining.\n",
        "    elif blocSequence == [1, 1, 1]:\n",
        "      blockHeight += 3\n",
        "      honestRevenu += ((attackerHashrate / totalHashrate) * coinbaseRevenu) * 3\n",
        "      finalRevenu += coinbaseRevenu * 3\n",
        "\n",
        "  # Once all cycles are completed for a given hashrate value, we save the yield coefficient of the attacker and the honest miner in order to verify\n",
        "  # and display the most profitable strategy to implement based on the hashrate.\n",
        "  finalCoefficient.append(finalRevenu / blockHeight)\n",
        "  finalHonestCoefficient.append(honestRevenu / blockHeight)\n",
        "\n",
        "  # We then determine the attacker's hashrate % threshold at which the 1+2 Strategy is the most profitable one.\n",
        "\n",
        "  # For that, we add a locker to stop the threshold value when the best yield has significantly shifted to the attacker's side. This lock prevents a  \n",
        "  # potential modification of the threshold value in case the strategy becomes more profitable again for the honest miner with more hashrate.\n",
        "  locker = locker + 1 if max(finalRevenu, honestRevenu) == finalRevenu else locker\n",
        "  thresholdBestStrat = attackerHashrate if (max(finalRevenu, honestRevenu) == honestRevenu and locker < 15) else thresholdBestStrat\n",
        "\n",
        "print(\"Finalized!\")"
      ],
      "metadata": {
        "colab": {
          "base_uri": "https://localhost:8080/"
        },
        "id": "9P0OXiIgelgJ",
        "outputId": "0937fc98-da42-40eb-abc6-e5e8c5bd7380"
      },
      "execution_count": 35,
      "outputs": [
        {
          "output_type": "stream",
          "name": "stdout",
          "text": [
            "Waiting for compute...\n",
            "Finalized!\n"
          ]
        }
      ]
    },
    {
      "cell_type": "code",
      "source": [
        "import matplotlib.pyplot as plt\n",
        "import numpy as np\n",
        "\n",
        "print(\"We can see that the threshold from which the 1+2 Strategy is the best one is when the attacker have more than about \" + str(thresholdBestStrat) + \"% of the total hashrate.\")\n",
        "\n",
        "# We simply end by displaying the yield ratio curves of our simulation in order to see which strategie is the best based on the hashrate.\n",
        "plt.plot(allAttackerHashrate, finalCoefficient, label=\"Attacker Yield\")\n",
        "plt.plot(allAttackerHashrate, finalHonestCoefficient, label=\"Honest Yield\")\n",
        "plt.legend(loc='upper left')\n",
        "plt.xlabel('% of total Hashrate')\n",
        "plt.ylabel('Yield Ratio')\n",
        "plt.title(\"Simulation 1+2 Strategy\")\n",
        "plt.grid()\n",
        "plt.show()"
      ],
      "metadata": {
        "colab": {
          "base_uri": "https://localhost:8080/",
          "height": 313
        },
        "id": "p6wFTH80rxuC",
        "outputId": "e71138c0-3a24-4dc1-979f-8004a53651ba"
      },
      "execution_count": 36,
      "outputs": [
        {
          "output_type": "stream",
          "name": "stdout",
          "text": [
            "We can see that the threshold from which the 1+2 Strategy is the best one is when the attacker have more than about 38% of the total hashrate.\n"
          ]
        },
        {
          "output_type": "display_data",
          "data": {
            "text/plain": [
              "<Figure size 432x288 with 1 Axes>"
            ],
            "image/png": "[encoded data removed]"
          },
          "metadata": {
            "needs_background": "light"
          }
        }
      ]
    }
  ]
}