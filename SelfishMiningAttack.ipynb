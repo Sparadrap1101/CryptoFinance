{
  "nbformat": 4,
  "nbformat_minor": 0,
  "metadata": {
    "colab": {
      "provenance": [],
      "authorship_tag": "ABX9TyMoAn6XRvLLDIS2VUlDqg5D",
      "include_colab_link": true
    },
    "kernelspec": {
      "name": "python3",
      "display_name": "Python 3"
    },
    "language_info": {
      "name": "python"
    }
  },
  "cells": [
    {
      "cell_type": "markdown",
      "metadata": {
        "id": "view-in-github",
        "colab_type": "text"
      },
      "source": [
        "<a href=\"https://colab.research.google.com/github/Sparadrap1101/CryptoFinance/blob/main/SelfishMiningAttack.ipynb\" target=\"_parent\"><img src=\"https://colab.research.google.com/assets/colab-badge.svg\" alt=\"Open In Colab\"/></a>"
      ]
    },
    {
      "cell_type": "code",
      "execution_count": 25,
      "metadata": {
        "colab": {
          "base_uri": "https://localhost:8080/"
        },
        "id": "Cte3HjNFSI84",
        "outputId": "88e7803a-4c5a-47f7-c40a-95069e96ae66"
      },
      "outputs": [
        {
          "name": "stdout",
          "output_type": "stream",
          "text": [
            "How many blocks should the attacker premine before launching the attack? (e.g. 3) > 3\n",
            "What's the maximum number of blocks behind the main chain the attacker tolerates before stopping his attack? (e.g. 3) > 3\n",
            "Number of confirmations the merchant waits to validate a transaction? (e.g. 6) > 6\n",
            "Number of attack cycles? (e.g. 500) > 500\n",
            "What's the amount of the double spend? (e.g. 10) > 10\n"
          ]
        }
      ],
      "source": [
        "# Author: Alexis Cerio\n",
        "#\n",
        "# Subject: We want to simulate a Silfish Mining Attack strategy against an honest mining strategy in order to determine which one is the most profitable.\n",
        "# \n",
        "#\n",
        "# Attack Process: The attacker will first premine X block ahead of the main chain before starting his attack. If the attacker is behind the main chain \n",
        "# during the premining phase, he will abandon his blocks and restart mining from the last block of the main chain. (X = premineBlocks)\n",
        "#\n",
        "# Once the premining phase is over, the attacker will launch his attack. This will end either if the attacker is Y blocks behind the main chain, \n",
        "# or if he is ahead of the main chain at least Z blocks after the start of his attack. (Y = maxTolerance, Z = requireConfirmation)\n",
        "#\n",
        "# X, Y, and Z are to be defined depending on the simulations you want to perform.\n",
        "\n",
        "import random\n",
        "\n",
        "# We define the variables necessary for the simulation.\n",
        "totalHashrate = 100\n",
        "coinbaseRevenu = 6.25\n",
        "allAttackerHashrate = list(range(0, 100))\n",
        "finalCoefficient = []\n",
        "finalHonestCoefficient = []\n",
        "thresholdBestStrat = 0\n",
        "\n",
        "premineBlocks = int(input(\"How many blocks should the attacker premine before launching the attack? (e.g. 3) > \"))\n",
        "maxTolerance = int(input(\"What's the maximum number of blocks behind the main chain the attacker tolerates before stopping his attack? (e.g. 3) > \"))\n",
        "requireConfirmations = int(input(\"Number of confirmations the merchant waits to validate a transaction? (e.g. 6) > \"))\n",
        "nbreCycle = int(input(\"Number of attack cycles? (e.g. 500) > \"))\n",
        "GainDoubleSpending = int(input(\"What's the amount of the double spend? (e.g. 10) > \"))"
      ]
    },
    {
      "cell_type": "code",
      "source": [
        "print(\"Waiting for compute...\")\n",
        "\n",
        "# We start simulation here.\n",
        "# First we do a for loop to simulate with all different attacker hashrate % possible.\n",
        "for attackerHashrate in allAttackerHashrate:\n",
        "  # We create and reset the time, the honest miner revenue and the attacker revenue values for each simulation.\n",
        "  honestRevenu = 0\n",
        "  finalRevenu = 0\n",
        "  time = 0\n",
        "\n",
        "  # We launch the simulation and calculate the time and yield of the strategy over X cycles defined earlier.\n",
        "  for i in range(nbreCycle):\n",
        "    # We reset the number of blocks ahead of the main chain and the number of blocks mined by the attacker at each new cycle.\n",
        "    blockAdvance = 0\n",
        "    attackerBlockNbre = 0\n",
        "\n",
        "    # We create a variable exit which will simply allow us to save calculation time and not get stuck too long on premining in our simulations\n",
        "    # when the attacker has very little hashrate.\n",
        "    exit = 0\n",
        "    exitRatio = 500 if attackerHashrate > 15 else 50\n",
        "\n",
        "\n",
        "    ## Premining Phase ##\n",
        "\n",
        "    # The premining phase ends when the attacker has premined X blocks ahead of the main chain (or if it takes too long to premine and we exit \n",
        "    # to optimize calculation time).\n",
        "    while blockAdvance < premineBlocks and exit < exitRatio:\n",
        "      exit += 1\n",
        "      \n",
        "      blockMined = random.randrange(0, totalHashrate) # A new block is mined.\n",
        "      honestRevenu += (attackerHashrate / totalHashrate) * coinbaseRevenu # We increment the yield of the honest miner based on its % of the total hashrate.\n",
        "\n",
        "      if (blockMined <= attackerHashrate): # If it's the attacker who mines the new block:\n",
        "        # We increase the total mining time, his advance on the main chain, and his total number of mined blocks.\n",
        "        blockAdvance += 1\n",
        "        attackerBlockNbre += 1\n",
        "        time += 10\n",
        "      else: \n",
        "        if blockAdvance == 0: # If it's not the attacker who mines the new block and he has no advance on the main chain:\n",
        "          # We increase the total mining time and the attacker restarts mining from the main chain so we reset his total number of mined blocks.\n",
        "          attackerBlockNbre = 0\n",
        "          time += 10\n",
        "        else: # If he still has an advance on the main chain, we only decrease his advance and increase the total mining time.\n",
        "          blockAdvance -= 1\n",
        "          time += 10\n",
        "\n",
        "\n",
        "    ## Attack Phase ##\n",
        "\n",
        "    # The attack phase begins once the premining phase is over. This phase ends if the attacker is Y blocks behind the main chain, or if the attacker\n",
        "    # is ahead of the main chain at least Z blocks after the start of the attack.\n",
        "    while exit < exitRatio and blockAdvance >= 0 - maxTolerance and (attackerBlockNbre < requireConfirmations or (attackerBlockNbre >= requireConfirmations and blockAdvance <= 0)):\n",
        "      blockMined = random.randrange(0, totalHashrate) # A new block is mined.\n",
        "      honestRevenu += (attackerHashrate / totalHashrate) * coinbaseRevenu # We increment the yield of the honest miner based on its % of the total hashrate.\n",
        "\n",
        "      if (blockMined <= attackerHashrate): # If it's the attacker who mines the new block:\n",
        "        # We increase the total mining time, his advance on the main chain, and his total number of mined blocks.\n",
        "        blockAdvance += 1\n",
        "        attackerBlockNbre += 1\n",
        "        time += 10\n",
        "      else: # If it's not the attacker who mines the new block, we decrease his advance of blocks on the main chain and increase the total mining time.\n",
        "        blockAdvance -= 1\n",
        "        time += 10\n",
        "\n",
        "    # Once the attack is over, we calculate the attacker's revenue before launching a new cycle.\n",
        "    if (blockAdvance < 0 or exit >= exitRatio): # If the attacker wasn't successful in his attack, he will then have zero revenue.\n",
        "      finalRevenu += 0\n",
        "    else: # If the attacker was successful in his attack, his revenue will be that of all the blocks he mined + the amount of the double spend made in his attack.\n",
        "      finalRevenu += attackerBlockNbre * coinbaseRevenu + GainDoubleSpending\n",
        "\n",
        "  # Once all cycles are completed for a given hashrate value, we save the yield coefficient of the attacker and the honest miner in order to verify\n",
        "  # and display the most profitable strategy to implement based on the hashrate.\n",
        "  finalCoefficient.append(finalRevenu / time)\n",
        "  finalHonestCoefficient.append(honestRevenu / time)\n",
        "\n",
        "  # We then determine the attacker's hashrate % threshold at which the Selfish Mining attack is the most profitable one.\n",
        "  thresholdBestStrat = attackerHashrate if max(finalRevenu, honestRevenu) == honestRevenu else thresholdBestStrat\n",
        "\n",
        "print(\"Finalized!\")"
      ],
      "metadata": {
        "colab": {
          "base_uri": "https://localhost:8080/"
        },
        "id": "7GCVyuIraP0G",
        "outputId": "b8f68871-bb06-488d-9eae-4e08afac8c48"
      },
      "execution_count": 26,
      "outputs": [
        {
          "output_type": "stream",
          "name": "stdout",
          "text": [
            "Waiting for compute...\n",
            "Finalized!\n"
          ]
        }
      ]
    },
    {
      "cell_type": "code",
      "source": [
        "import matplotlib.pyplot as plt\n",
        "import numpy as np\n",
        "\n",
        "print(\"We can see that the threshold from which the Selfish Mining strategy is the best one is when the attacker have at least \" + str(thresholdBestStrat) + \"% of the total hashrate.\")\n",
        "\n",
        "# We simply end by displaying the yield ratio curves of our simulation in order to see which strategie is the best based on the hashrate.\n",
        "plt.plot(allAttackerHashrate, finalCoefficient, label=\"Attacker Yield\")\n",
        "plt.plot(allAttackerHashrate, finalHonestCoefficient, label=\"Honest Yield\")\n",
        "plt.legend(loc='upper left')\n",
        "plt.xlabel('% of total Hashrate')\n",
        "plt.ylabel('Yield Ratio')\n",
        "plt.title(\"Simulation Selfish Mining\")\n",
        "plt.grid()\n",
        "plt.show()"
      ],
      "metadata": {
        "colab": {
          "base_uri": "https://localhost:8080/",
          "height": 313
        },
        "id": "7xhTSOvM0gzX",
        "outputId": "be6efe0e-41fd-4e8e-f595-15a4ca71527b"
      },
      "execution_count": 27,
      "outputs": [
        {
          "output_type": "stream",
          "name": "stdout",
          "text": [
            "We can see that the threshold from which the Selfish Mining strategy is the best one is when the attacker have at least 54% of the total hashrate.\n"
          ]
        },
        {
          "output_type": "display_data",
          "data": {
            "text/plain": [
              "<Figure size 432x288 with 1 Axes>"
            ],
            "image/png": "[encoded data removed]"
          },
          "metadata": {
            "needs_background": "light"
          }
        }
      ]
    }
  ]
}